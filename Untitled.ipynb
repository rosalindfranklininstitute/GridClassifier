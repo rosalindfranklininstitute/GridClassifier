{
 "cells": [
  {
   "cell_type": "code",
   "execution_count": 44,
   "metadata": {},
   "outputs": [],
   "source": [
    "import numpy as np"
   ]
  },
  {
   "cell_type": "code",
   "execution_count": 71,
   "metadata": {
    "scrolled": true
   },
   "outputs": [
    {
     "name": "stdout",
     "output_type": "stream",
     "text": [
      "(1000, 1000, 3)\n"
     ]
    }
   ],
   "source": [
    "inputs = np.random.rand(1000,1000,3)*10\n",
    "print(inputs.shape)"
   ]
  },
  {
   "cell_type": "code",
   "execution_count": 72,
   "metadata": {},
   "outputs": [
    {
     "name": "stdout",
     "output_type": "stream",
     "text": [
      "(1000, 1000) (1000, 1000) (1000, 1000)\n"
     ]
    }
   ],
   "source": [
    "sigma = 10.0\n",
    "rho = 28.0\n",
    "beta = 8.0/3.0\n",
    "pure1 = sigma*(inputs[:,:,1]-inputs[:,:,0])\n",
    "pure2 = inputs[:,:,0]*(rho-inputs[:,:,2])-inputs[:,:,1]\n",
    "pure3 = inputs[:,:,0]*inputs[:,:,2] - beta*inputs[:,:,2]\n",
    "\n",
    "out1 = pure1#+np.random.random(out1.shape)\n",
    "out2 = pure2#+np.random.random(out2.shape)\n",
    "out3 = pure3#+np.random.random(out3.shape)\n",
    "print(out1.shape, out2.shape, out3.shape)"
   ]
  },
  {
   "cell_type": "code",
   "execution_count": 73,
   "metadata": {},
   "outputs": [
    {
     "name": "stdout",
     "output_type": "stream",
     "text": [
      "(1000000, 3)\n"
     ]
    }
   ],
   "source": [
    "print(inputs.reshape(-1, inputs.shape[-1]).shape)"
   ]
  },
  {
   "cell_type": "code",
   "execution_count": 74,
   "metadata": {},
   "outputs": [],
   "source": [
    "from sklearn.ensemble import RandomForestClassifier\n",
    "from sklearn.datasets import make_classification"
   ]
  },
  {
   "cell_type": "code",
   "execution_count": 75,
   "metadata": {},
   "outputs": [],
   "source": [
    "from sklearn.linear_model import SGDRegressor\n",
    "from sklearn.pipeline import make_pipeline\n",
    "from sklearn.preprocessing import StandardScaler\n",
    "#reg = make_pipeline(StandardScaler(), SGDRegressor(max_iter=1000, tol=1e-3))\n",
    "reg = SGDRegressor(max_iter=1000, tol=1e-3)"
   ]
  },
  {
   "cell_type": "code",
   "execution_count": 79,
   "metadata": {},
   "outputs": [],
   "source": [
    "reg.fit(inputs.reshape(-1, inputs.shape[-1]), out1.reshape(-1))\n",
    "pred1 = reg.predict(inputs.reshape(-1, inputs.shape[-1]))\n",
    "\n",
    "reg.fit(inputs.reshape(-1, inputs.shape[-1]), out2.reshape(-1))\n",
    "pred2 = reg.predict(inputs.reshape(-1, inputs.shape[-1]))\n",
    "\n",
    "reg.fit(inputs.reshape(-1, inputs.shape[-1]), out3.reshape(-1))\n",
    "pred3 = reg.predict(inputs.reshape(-1, inputs.shape[-1]))"
   ]
  },
  {
   "cell_type": "code",
   "execution_count": 81,
   "metadata": {},
   "outputs": [
    {
     "data": {
      "text/plain": [
       "[<matplotlib.lines.Line2D at 0x19e02172370>]"
      ]
     },
     "execution_count": 81,
     "metadata": {},
     "output_type": "execute_result"
    },
    {
     "data": {
      "image/png": "[encoded data removed]",
      "text/plain": [
       "<Figure size 432x288 with 1 Axes>"
      ]
     },
     "metadata": {
      "needs_background": "light"
     },
     "output_type": "display_data"
    }
   ],
   "source": [
    "import matplotlib.pyplot as plt\n",
    "plt.plot(pred1, out1.reshape(-1), '.', color='black')"
   ]
  },
  {
   "cell_type": "code",
   "execution_count": 82,
   "metadata": {},
   "outputs": [
    {
     "data": {
      "text/plain": [
       "[<matplotlib.lines.Line2D at 0x19e02de6fa0>]"
      ]
     },
     "execution_count": 82,
     "metadata": {},
     "output_type": "execute_result"
    },
    {
     "data": {
      "image/png": "[encoded data removed]",
      "text/plain": [
       "<Figure size 432x288 with 1 Axes>"
      ]
     },
     "metadata": {
      "needs_background": "light"
     },
     "output_type": "display_data"
    }
   ],
   "source": [
    "plt.plot(pred2, out2.reshape(-1), '.', color='red')"
   ]
  },
  {
   "cell_type": "code",
   "execution_count": 83,
   "metadata": {},
   "outputs": [
    {
     "data": {
      "text/plain": [
       "[<matplotlib.lines.Line2D at 0x19e02e15490>]"
      ]
     },
     "execution_count": 83,
     "metadata": {},
     "output_type": "execute_result"
    },
    {
     "data": {
      "image/png": "[encoded data removed]",
      "text/plain": [
       "<Figure size 432x288 with 1 Axes>"
      ]
     },
     "metadata": {
      "needs_background": "light"
     },
     "output_type": "display_data"
    }
   ],
   "source": [
    "plt.plot(out3.reshape(-1), pred3, '.', color='blue')"
   ]
  },
  {
   "cell_type": "code",
   "execution_count": 62,
   "metadata": {},
   "outputs": [
    {
     "name": "stdout",
     "output_type": "stream",
     "text": [
      "b'\\x80\\x04\\x95\\xc9\\x02\\x00\\x00\\x00\\x00\\x00\\x00\\x8c)sklearn.linear_model._stochastic_gradient\\x94\\x8c\\x0cSGDRegressor\\x94\\x93\\x94)\\x81\\x94}\\x94(\\x8c\\x04loss\\x94\\x8c\\x0csquared_loss\\x94\\x8c\\x07penalty\\x94\\x8c\\x02l2\\x94\\x8c\\rlearning_rate\\x94\\x8c\\ninvscaling\\x94\\x8c\\x07epsilon\\x94G?\\xb9\\x99\\x99\\x99\\x99\\x99\\x9a\\x8c\\x05alpha\\x94G?\\x1a6\\xe2\\xeb\\x1cC-\\x8c\\x01C\\x94G?\\xf0\\x00\\x00\\x00\\x00\\x00\\x00\\x8c\\x08l1_ratio\\x94G?\\xc3333333\\x8c\\rfit_intercept\\x94\\x88\\x8c\\x07shuffle\\x94\\x88\\x8c\\x0crandom_state\\x94N\\x8c\\x07verbose\\x94K\\x00\\x8c\\x04eta0\\x94G?\\x84z\\xe1G\\xae\\x14{\\x8c\\x07power_t\\x94G?\\xd0\\x00\\x00\\x00\\x00\\x00\\x00\\x8c\\x0eearly_stopping\\x94\\x89\\x8c\\x13validation_fraction\\x94G?\\xb9\\x99\\x99\\x99\\x99\\x99\\x9a\\x8c\\x10n_iter_no_change\\x94K\\x05\\x8c\\nwarm_start\\x94\\x89\\x8c\\x07average\\x94\\x89\\x8c\\x08max_iter\\x94M\\xe8\\x03\\x8c\\x03tol\\x94G?PbM\\xd2\\xf1\\xa9\\xfc\\x8c\\x05coef_\\x94\\x8c\\x15numpy.core.multiarray\\x94\\x8c\\x0c_reconstruct\\x94\\x93\\x94\\x8c\\x05numpy\\x94\\x8c\\x07ndarray\\x94\\x93\\x94K\\x00\\x85\\x94C\\x01b\\x94\\x87\\x94R\\x94(K\\x01K\\x03\\x85\\x94h \\x8c\\x05dtype\\x94\\x93\\x94\\x8c\\x02f8\\x94K\\x00K\\x01\\x87\\x94R\\x94(K\\x03\\x8c\\x01<\\x94NNNJ\\xff\\xff\\xff\\xffJ\\xff\\xff\\xff\\xffK\\x00t\\x94b\\x89C\\x18T\\xea00#\\x7f\\x12@8\\x04p\\x04*\\xdf\\xdc\\xbf\\xb1\\x90\\x0c\\xb5c\\x9b\\x04@\\x94t\\x94b\\x8c\\nintercept_\\x94h\\x1fh\"K\\x00\\x85\\x94h$\\x87\\x94R\\x94(K\\x01K\\x01\\x85\\x94h,\\x89C\\x08\\xe5/Z\\x90\\x14\\xdb8\\xc0\\x94t\\x94b\\x8c\\x02t_\\x94GA\\x071\\x88\\x00\\x00\\x00\\x00\\x8c\\x0en_features_in_\\x94K\\x03\\x8c\\x07n_iter_\\x94K\\x13\\x8c\\x10_sklearn_version\\x94\\x8c\\x060.23.1\\x94ub.'\n"
     ]
    }
   ],
   "source": [
    "import pickle\n",
    "a = pickle.dumps(reg)\n",
    "print(a)"
   ]
  },
  {
   "cell_type": "code",
   "execution_count": 2,
   "metadata": {},
   "outputs": [],
   "source": [
    "from src.GridMapper import process_grid"
   ]
  },
  {
   "cell_type": "code",
   "execution_count": 3,
   "metadata": {},
   "outputs": [],
   "source": [
    "a = process_grid('example_data/Scans/Grid1_back/', 1)"
   ]
  },
  {
   "cell_type": "code",
   "execution_count": 4,
   "metadata": {},
   "outputs": [
    {
     "data": {
      "text/plain": [
       "array([[[70, 55, 86, ..., 53, 67, 84],\n",
       "        [70, 52, 87, ..., 53, 68, 84],\n",
       "        [71, 52, 85, ..., 54, 69, 85],\n",
       "        ...,\n",
       "        [75, 54, 85, ..., 54, 69, 86],\n",
       "        [72, 54, 82, ..., 54, 67, 84],\n",
       "        [70, 53, 83, ..., 55, 65, 84]],\n",
       "\n",
       "       [[71, 57, 86, ..., 53, 67, 83],\n",
       "        [72, 54, 87, ..., 52, 67, 85],\n",
       "        [71, 52, 86, ..., 54, 68, 85],\n",
       "        ...,\n",
       "        [71, 53, 84, ..., 55, 68, 86],\n",
       "        [72, 54, 82, ..., 55, 67, 83],\n",
       "        [71, 53, 84, ..., 54, 67, 83]],\n",
       "\n",
       "       [[70, 55, 83, ..., 53, 65, 85],\n",
       "        [71, 57, 83, ..., 52, 63, 85],\n",
       "        [71, 53, 85, ..., 54, 66, 86],\n",
       "        ...,\n",
       "        [69, 53, 83, ..., 55, 67, 85],\n",
       "        [71, 52, 85, ..., 53, 67, 83],\n",
       "        [72, 50, 86, ..., 53, 68, 81]],\n",
       "\n",
       "       ...,\n",
       "\n",
       "       [[70, 55, 83, ..., 48, 70, 83],\n",
       "        [70, 51, 84, ..., 51, 70, 86],\n",
       "        [72, 50, 86, ..., 56, 71, 89],\n",
       "        ...,\n",
       "        [73, 54, 86, ..., 55, 71, 88],\n",
       "        [72, 55, 86, ..., 58, 71, 88],\n",
       "        [72, 54, 87, ..., 58, 70, 88]],\n",
       "\n",
       "       [[69, 50, 82, ..., 49, 70, 86],\n",
       "        [69, 49, 81, ..., 49, 71, 87],\n",
       "        [70, 48, 83, ..., 53, 68, 87],\n",
       "        ...,\n",
       "        [72, 52, 86, ..., 55, 72, 89],\n",
       "        [71, 54, 86, ..., 55, 70, 88],\n",
       "        [71, 56, 86, ..., 57, 69, 86]],\n",
       "\n",
       "       [[69, 47, 81, ..., 50, 69, 86],\n",
       "        [69, 48, 80, ..., 50, 69, 87],\n",
       "        [69, 46, 80, ..., 51, 67, 86],\n",
       "        ...,\n",
       "        [72, 53, 86, ..., 55, 71, 89],\n",
       "        [70, 56, 85, ..., 51, 70, 89],\n",
       "        [71, 56, 85, ..., 54, 70, 88]]], dtype=uint8)"
      ]
     },
     "execution_count": 4,
     "metadata": {},
     "output_type": "execute_result"
    }
   ],
   "source": [
    "a"
   ]
  },
  {
   "cell_type": "code",
   "execution_count": 6,
   "metadata": {},
   "outputs": [
    {
     "data": {
      "text/plain": [
       "(3040, 4056, 7)"
      ]
     },
     "execution_count": 6,
     "metadata": {},
     "output_type": "execute_result"
    }
   ],
   "source": [
    "a.shape"
   ]
  },
  {
   "cell_type": "code",
   "execution_count": 37,
   "metadata": {},
   "outputs": [],
   "source": [
    "import numpy as np"
   ]
  },
  {
   "cell_type": "code",
   "execution_count": 38,
   "metadata": {},
   "outputs": [],
   "source": [
    "b = (a*np.random.rand(7)).mean(2)"
   ]
  },
  {
   "cell_type": "code",
   "execution_count": 39,
   "metadata": {},
   "outputs": [
    {
     "data": {
      "text/plain": [
       "(3040, 4056)"
      ]
     },
     "execution_count": 39,
     "metadata": {},
     "output_type": "execute_result"
    }
   ],
   "source": [
    "b.shape"
   ]
  },
  {
   "cell_type": "code",
   "execution_count": 40,
   "metadata": {},
   "outputs": [],
   "source": [
    "from matplotlib.pyplot import imread, imsave"
   ]
  },
  {
   "cell_type": "code",
   "execution_count": 41,
   "metadata": {},
   "outputs": [],
   "source": [
    "imsave('./example_data/Properties/Grid1_back/PROP0003.jpg', b, cmap='gray', vmax=255, vmin=0)"
   ]
  },
  {
   "cell_type": "code",
   "execution_count": 42,
   "metadata": {},
   "outputs": [
    {
     "data": {
      "text/plain": [
       "41.01526806984565"
      ]
     },
     "execution_count": 42,
     "metadata": {},
     "output_type": "execute_result"
    }
   ],
   "source": [
    "b.max()"
   ]
  },
  {
   "cell_type": "code",
   "execution_count": 43,
   "metadata": {},
   "outputs": [
    {
     "data": {
      "text/plain": [
       "0.0"
      ]
     },
     "execution_count": 43,
     "metadata": {},
     "output_type": "execute_result"
    }
   ],
   "source": [
    "b.min()"
   ]
  },
  {
   "cell_type": "code",
   "execution_count": null,
   "metadata": {},
   "outputs": [],
   "source": []
  },
  {
   "cell_type": "code",
   "execution_count": null,
   "metadata": {},
   "outputs": [],
   "source": []
  }
 ],
 "metadata": {
  "kernelspec": {
   "display_name": "Python 3",
   "language": "python",
   "name": "python3"
  },
  "language_info": {
   "codemirror_mode": {
    "name": "ipython",
    "version": 3
   },
   "file_extension": ".py",
   "mimetype": "text/x-python",
   "name": "python",
   "nbconvert_exporter": "python",
   "pygments_lexer": "ipython3",
   "version": "3.8.3"
  }
 },
 "nbformat": 4,
 "nbformat_minor": 4
}
